{
 "cells": [
  {
   "cell_type": "code",
   "execution_count": 2,
   "metadata": {
    "scrolled": true
   },
   "outputs": [
    {
     "name": "stdout",
     "output_type": "stream",
     "text": [
      "2022-02-09T17:37:56+01:00\n",
      "\n",
      "CPython 3.6.7\n",
      "IPython 6.4.0\n",
      "\n",
      "compiler   : GCC 7.3.0\n",
      "system     : Linux\n",
      "release    : 4.15.0-167-generic\n",
      "machine    : x86_64\n",
      "processor  : x86_64\n",
      "CPU cores  : 8\n",
      "interpreter: 64bit\n"
     ]
    }
   ],
   "source": [
    "import numpy as np\n",
    "import matplotlib.pyplot as plt\n",
    "%load_ext watermark\n",
    "%watermark"
   ]
  },
  {
   "cell_type": "markdown",
   "metadata": {},
   "source": [
    "https://en.wikipedia.org/wiki/Runge%E2%80%93Kutta_methods\n",
    "https://perso.crans.org/besson/publis/notebooks/Runge-Kutta_methods_for_ODE_integration_in_Python.html\n",
    "http://spiff.rit.edu/richmond/nbody/OrbitRungeKutta4.pdf\n",
    "https://physics.stackexchange.com/search?q=runge+kutta+4"
   ]
  },
  {
   "cell_type": "markdown",
   "metadata": {},
   "source": [
    "# Trapped ions physics\n",
    "\n",
    "In 1D the motion equation of a trapped ion $i$, in an RF field, with friction and Coulomb interaction is as follows :\n",
    "\n",
    "$m\\ddot x_i = \\frac{2q_eU_{RF}}{r_0^2}\\cos\\Omega t ~x_i + q_e^2k_C\\sum_{j=1}^N \\frac{x_i-x_j}{d_{ij}^3} + \\gamma\\dot x_i$\n",
    "\n",
    "This second order differential equation can be written as a system of two first order differential equations\n",
    "\n",
    "$\\dot x_i = v_i \\\\ \\dot v_i = a_i = \\frac{2q_eU_{RF}}{r_0^2}\\cos\\Omega t ~x_i + q_e^2k_C\\sum_{j=1}^N \\frac{x_i-x_j}{d_{ij}^3} \\gamma v_i$"
   ]
  },
  {
   "cell_type": "markdown",
   "metadata": {
    "slideshow": {
     "slide_type": "-"
    }
   },
   "source": [
    "# Runge-Kutta of order 4 (RK4)\n",
    "\n",
    "From $x_i(t_n)$ the value of the quantity $x_i$ at time $t_n$, the RK4 algorithm estimates the value of the same quantity $x_i$ at the next simulation step $t_{n+1}$. The time step $h$ is defined so that $t_{n+1}-t_n=h$. RK4 proceeds in 4 steps\n",
    "1. Estimates the variable next value from the initial position using its derivative (slope) at initial point $k_1$.\n",
    "2. Estimates the variable next value from the midpoint between the initial point and the point computed from 1. using its derivative at initial point $k_1$. This gives a new slope $k_2$.\n",
    "3. (Same as 2 with derivative computed at 2) Estimates the variable next value from the midpoint between the initial point and the point computed from 1. using its derivative at point 3. This gives a new slope $k_3$.\n",
    "4. Estimates the variable next value from the final position using its derivative at final point. This gives a new slope $k_4$.\n",
    "\n",
    "$k_j$ is the slope of the function at step $j$. Then a ponderate average is computed so that\n",
    "\n",
    "$y_{n+1} = y_n + \\frac{1}{6}(k_1+2k_2+2k_3+k_4)$"
   ]
  },
  {
   "cell_type": "code",
   "execution_count": null,
   "metadata": {},
   "outputs": [],
   "source": []
  }
 ],
 "metadata": {
  "kernelspec": {
   "display_name": "Python 3",
   "language": "python",
   "name": "python3"
  }
 },
 "nbformat": 4,
 "nbformat_minor": 2
}
