{
 "cells": [
  {
   "cell_type": "code",
   "execution_count": 69,
   "metadata": {
    "scrolled": true
   },
   "outputs": [
    {
     "name": "stdout",
     "output_type": "stream",
     "text": [
      "The watermark extension is already loaded. To reload it, use:\n",
      "  %reload_ext watermark\n",
      "2022-02-17T17:37:10+01:00\n",
      "\n",
      "CPython 3.6.7\n",
      "IPython 6.4.0\n",
      "\n",
      "compiler   : GCC 7.3.0\n",
      "system     : Linux\n",
      "release    : 4.15.0-167-generic\n",
      "machine    : x86_64\n",
      "processor  : x86_64\n",
      "CPU cores  : 8\n",
      "interpreter: 64bit\n"
     ]
    }
   ],
   "source": [
    "import numpy as np\n",
    "import matplotlib.pyplot as plt\n",
    "%load_ext watermark\n",
    "%watermark"
   ]
  },
  {
   "cell_type": "code",
   "execution_count": 81,
   "metadata": {},
   "outputs": [],
   "source": [
    "# %matplotlib inline\n",
    "%matplotlib qt"
   ]
  },
  {
   "cell_type": "markdown",
   "metadata": {},
   "source": [
    "# 1. Trapped ions physics\n",
    "## Motion equation\n",
    "In 1D the motion equation of a trapped ion $i$, in an RF field, with friction and Coulomb interaction is as follows :\n",
    "\n",
    "$m\\ddot y_i = \\frac{2q_eU_{RF}}{r_0^2}\\cos\\Omega t ~y_i + q_e^2k_C\\sum_{j=1}^N \\frac{y_i-y_j}{d_{ij}^3} - \\gamma\\dot y_i$\n",
    "\n",
    "Numerically solve this equation is equivalent to obtain the set of variables $y_i$, $v_i=\\frac{\\mathrm{d}y_i}{\\mathrm{d}t}$ and $a_i = \\frac{\\mathrm{d^2}y_i}{\\mathrm{d}t^2}$ that fulfill this equation. Several methods can be used. In our Fortran code, when there are no friction velocity-Verlet method (VV) is used, but when friction is implemented another method must be used. Blümel *et al* use Runge-Kutta fourth order method (RK4). This document deals with both VV and RK4.\n",
    "\n",
    "For RK4 it is convenient to write the second order differential equation as a system of two first order differential equations\n",
    "\n",
    "$\\dot y_i = v_i \\\\ \\dot v_i = a_i = \\frac{2q_eU_{RF}}{r_0^2}\\cos\\Omega t ~y_i + q_e^2k_C\\sum_{j=1}^N \\frac{y_i-y_j}{d_{ij}^3} - \\gamma v_i$\n",
    "\n",
    "It may seems that this decomposition is artificial, expecially because there is no analytical expression for the velocity $v_i$. Nevertheless this is no problem because the actual value for the velocity $v_i$ is know at the beginning of each step of RK4 algorithm.\n",
    "\n",
    "## Trapping parameters\n",
    "$q_u = \\frac{4q_e}{mr_0^2\\Omega^2}U_{RF}$, $a_z = \\frac{8\\kappa q_e}{md_0^2\\Omega^2}U_{DC}$. For a given $q_u$, $U_{RF} = \\frac{q_umr_0^2\\Omega^2}{4q_e}$.\n",
    "\n",
    "The cloud is spherical for $\\omega_z = \\omega_x \\leftrightarrow a_z = \\frac{q_u^2}{2}$, thus $U_{DC} = \\frac{d_0^2q_e}{r_0^4m\\kappa\\Omega^2}U_{RF}^2$"
   ]
  },
  {
   "cell_type": "markdown",
   "metadata": {},
   "source": [
    "# 2. Simulation of a trapped ion\n",
    "\n",
    "Done with ForTran ```Runge_Kutta_Nions.F90``` as in this [Stack exchange](https://math.stackexchange.com/questions/721076/help-with-using-the-runge-kutta-4th-order-method-on-a-system-of-2-first-order-od) (but I have seen this elsewhere)"
   ]
  },
  {
   "cell_type": "code",
   "execution_count": 72,
   "metadata": {},
   "outputs": [],
   "source": [
    "# definition of physical variables\n",
    "C_e = 1.602e-19\n",
    "ke  = 8.987551787e9\n",
    "m_Ca = 40.078*1.66054e-27 # mass of trapped ion\n",
    "r0 = 2.865e-3/1.14511  # trap internal radius 2.5e-3\n",
    "d0 = 4e-3/2\n",
    "Omega = 2*np.pi*2e6  # RF field angular frequency\n",
    "Urf = 40       # RF voltage amplitude\n",
    "\n",
    "n_dt = 100\n",
    "dt_rk4 = 2*np.pi/(n_dt*Omega)"
   ]
  },
  {
   "cell_type": "code",
   "execution_count": 73,
   "metadata": {},
   "outputs": [
    {
     "name": "stdout",
     "output_type": "stream",
     "text": [
      "0.27047133360403336\n",
      "q_u , a_z => 0.3 , 0.008245910927597709\n",
      "30.798438655045498 5.457250314139631\n",
      "1270338.9447828738\n"
     ]
    }
   ],
   "source": [
    "kappa = (2*np.pi*90806.9982303)**2*m_Ca*d0**2/(2*C_e)\n",
    "print(kappa)\n",
    "q_u = 0.3\n",
    "a_u = 0\n",
    "a_z = 8*kappa*C_e/(m_Ca*d0**2*Omega**2)\n",
    "print('q_u , a_z =>',q_u,',',a_z)\n",
    "Urf = q_u*m_Ca*r0**2*Omega**2/(4*C_e)\n",
    "Udc = Urf**2 *d0**2*C_e/(r0**4*m_Ca*Omega**2*kappa)\n",
    "print(Urf,Udc)\n",
    "\n",
    "w_r = 0.5*Omega*np.sqrt(0.5*q_u**2+a_u-0.5*a_z)\n",
    "print(w_r)"
   ]
  },
  {
   "cell_type": "code",
   "execution_count": 74,
   "metadata": {},
   "outputs": [
    {
     "name": "stdout",
     "output_type": "stream",
     "text": [
      "4.1815303268069835e-21\n",
      "nt = 1000.0\n"
     ]
    }
   ],
   "source": [
    "# In Tarnas, Blumel etcetc\n",
    "# dimensionless equation\n",
    "# here is the conversion factor to go\n",
    "# from gamma in dimensionless to gamma in usi\n",
    "gamma_blu = 1e-2\n",
    "tc = 2/Omega\n",
    "gamma_usi = gamma_blu * m_Ca/tc\n",
    "print(gamma_usi)\n",
    "print('nt =',10/gamma_blu) # nt number of rf cycles for initialisation"
   ]
  },
  {
   "cell_type": "markdown",
   "metadata": {},
   "source": [
    "# Loading data from Fortran version\n",
    "```gfortran -o3 .\\Runge_Kutta_ions.f90 -o a.exe; .\\a.exe```"
   ]
  },
  {
   "cell_type": "code",
   "execution_count": 166,
   "metadata": {},
   "outputs": [],
   "source": [
    "str_N = '0016'\n",
    "str_gam ='0.42D-20'"
   ]
  },
  {
   "cell_type": "code",
   "execution_count": 167,
   "metadata": {},
   "outputs": [],
   "source": [
    "# Loading dynamics of a single ion in the simu                xyz_1ion_N1024_F0.10D-19_RK4BlumelStyle\n",
    "fileloc = '/home/adrian/RemoteFS/Rivendel/Simulations/20220208/xyz_1ion_N' \\\n",
    "          + str_N + '_F' \\\n",
    "          + str_gam + '_RK4BlumelStyle.dat'\n",
    "with open(fileloc) as f:\n",
    "    all_data = np.loadtxt(f,unpack=True) \n",
    "    t_For = all_data[0]\n",
    "    r_For = all_data[1:4]\n",
    "    v_For = all_data[4:7]\n",
    "    a_For = all_data[7:10]"
   ]
  },
  {
   "cell_type": "code",
   "execution_count": 168,
   "metadata": {},
   "outputs": [],
   "source": [
    "# plot the dynamics, r,v,a of the recorded ion\n",
    "plt.figure('First ion dynamics',clear='True')\n",
    "ax = plt.subplot(111)\n",
    "\n",
    "ax.plot(t_For/(n_dt*dt_rk4),np.array(r_For[0])/r0,ls=':',label='x RK4 Fortran')\n",
    "# ax.plot(t_For/(n_dt*dt_rk4),np.array(r_For[1])/r0,ls=':',label='y RK4 Fortran')\n",
    "# ax.plot(t_For/(n_dt*dt_rk4),np.array(r_For[2])/r0,ls=':',label='z RK4 Fortran')\n",
    "\n",
    "# ax.plot(t_For/(n_dt*dt_rk4),v_For[0],ls=':',marker='+',label='v_x RK4 Fortran')\n",
    "# ax.plot(t_For/(n_dt*dt_rk4),a_For[0],ls=':',label='a_x RK4 Fortran')\n",
    "\n",
    "ax.set_xlabel('time [RF period]')\n",
    "ax.set_ylabel('x [$r_0$]')\n",
    "# ax.set_ylim(-5,1e5)\n",
    "ax.grid()\n",
    "ax.legend()\n",
    "plt.tight_layout()"
   ]
  },
  {
   "cell_type": "code",
   "execution_count": 169,
   "metadata": {},
   "outputs": [],
   "source": [
    "# Loading position of ions at given time                      \n",
    "# endfly is at end of simu\n",
    "# endinit is at end init\n",
    "fileloc = '/home/adrian/RemoteFS/Rivendel/Simulations/20220208/r_endfly_N' \\\n",
    "          + str_N + '_F' \\\n",
    "          + str_gam + '_RK4BlumelStyle.dat'\n",
    "with open(fileloc) as f:\n",
    "    all_data = np.loadtxt(f,unpack=True) \n",
    "    x_photo = all_data[0,:]\n",
    "    y_photo = all_data[1,:]\n",
    "    z_photo = all_data[2,:]"
   ]
  },
  {
   "cell_type": "code",
   "execution_count": 170,
   "metadata": {},
   "outputs": [],
   "source": [
    "# plot position of ions at that given time\n",
    "plt.figure('Ion positions',clear='True')\n",
    "ax = plt.subplot(121)\n",
    "ax.scatter(x_photo/r0,y_photo/r0,marker='o',facecolor='',edgecolor='b')\n",
    "ax.set_xlabel('x')\n",
    "ax.set_ylabel('y')\n",
    "ax.grid()\n",
    "\n",
    "ax = plt.subplot(122)\n",
    "ax.scatter(z_photo/d0,x_photo/r0,facecolor='',edgecolor='b')\n",
    "ax.set_xlabel('z')\n",
    "ax.set_ylabel('x')\n",
    "# ax.set_ylim(-5,1e5)\n",
    "ax.grid()\n",
    "\n",
    "plt.tight_layout()"
   ]
  },
  {
   "cell_type": "code",
   "execution_count": 171,
   "metadata": {},
   "outputs": [],
   "source": [
    "# Loading temperature of ions\n",
    "fileloc = '/home/adrian/RemoteFS/Rivendel/Simulations/20220208/T_N' \\\n",
    "          + str_N + '_F' \\\n",
    "          + str_gam + '_RK4BlumelStyle.dat'\n",
    "with open(fileloc) as f:\n",
    "    all_data = np.loadtxt(f,unpack=True)\n",
    "    t_temp = all_data[0]\n",
    "    T_CM   = np.mean(all_data[1:4],axis=0)\n",
    "    T_aux  = np.mean(all_data[4:7],axis=0)\n",
    "    T_x = all_data[4]"
   ]
  },
  {
   "cell_type": "code",
   "execution_count": 172,
   "metadata": {},
   "outputs": [
    {
     "name": "stderr",
     "output_type": "stream",
     "text": [
      "No handles with labels found to put in legend.\n"
     ]
    },
    {
     "data": {
      "text/plain": [
       "<matplotlib.legend.Legend at 0x7f2ffc572128>"
      ]
     },
     "execution_count": 172,
     "metadata": {},
     "output_type": "execute_result"
    }
   ],
   "source": [
    "# plot temperature\n",
    "plt.figure('Ions temperature',clear='True')\n",
    "ax = plt.subplot(111)\n",
    "\n",
    "ax.plot(t_temp/(n_dt*dt_rk4),T_aux,ls=':',marker='+')\n",
    "# ax.plot(t_temp/(n_dt*dt_rk4),T_x,ls=':',marker='+')\n",
    "# ax.plot(t_For/(n_dt*dt_rk4),a_For[0],ls=':',label='a_x RK4 Fortran')\n",
    "\n",
    "ax.set_xlabel('time [RF period]')\n",
    "ax.set_ylabel('T [K]')\n",
    "# ax.set_ylim(-5,1e5)\n",
    "ax.grid()\n",
    "ax.legend()"
   ]
  },
  {
   "cell_type": "code",
   "execution_count": 173,
   "metadata": {},
   "outputs": [
    {
     "data": {
      "text/plain": [
       "[<matplotlib.lines.Line2D at 0x7f2ff53892e8>]"
      ]
     },
     "execution_count": 173,
     "metadata": {},
     "output_type": "execute_result"
    }
   ],
   "source": [
    "plt.figure('time fro temperature',clear='True')\n",
    "ax = plt.subplot(111)\n",
    "\n",
    "ax.plot(t_temp[:len(t_temp)//2],ls=':',marker='+')\n",
    "# ax.plot(t_For,ls=':',label='a_x RK4 Fortran')"
   ]
  },
  {
   "cell_type": "code",
   "execution_count": null,
   "metadata": {},
   "outputs": [],
   "source": []
  }
 ],
 "metadata": {
  "kernelspec": {
   "display_name": "Python 3",
   "language": "python",
   "name": "python3"
  },
  "language_info": {
   "codemirror_mode": {
    "name": "ipython",
    "version": 3
   },
   "file_extension": ".py",
   "mimetype": "text/x-python",
   "name": "python",
   "nbconvert_exporter": "python",
   "pygments_lexer": "ipython3",
   "version": "3.6.7"
  }
 },
 "nbformat": 4,
 "nbformat_minor": 2
}
